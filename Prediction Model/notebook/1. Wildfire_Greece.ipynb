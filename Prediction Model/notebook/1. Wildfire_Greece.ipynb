{
  "cells": [
    {
      "cell_type": "code",
      "execution_count": 28,
      "metadata": {},
      "outputs": [
        {
          "name": "stdout",
          "output_type": "stream",
          "text": [
            "Requirement already satisfied: pandas in c:\\users\\user\\.pyenv\\pyenv-win\\versions\\3.9.13\\lib\\site-packages (2.1.1)\n",
            "Requirement already satisfied: numpy in c:\\users\\user\\.pyenv\\pyenv-win\\versions\\3.9.13\\lib\\site-packages (1.26.1)\n",
            "Requirement already satisfied: ipython in c:\\users\\user\\.pyenv\\pyenv-win\\versions\\3.9.13\\lib\\site-packages (8.16.1)\n",
            "Collecting glob2\n",
            "  Downloading glob2-0.7.tar.gz (10 kB)\n",
            "  Installing build dependencies: started\n",
            "  Installing build dependencies: finished with status 'done'\n",
            "  Getting requirements to build wheel: started\n",
            "  Getting requirements to build wheel: finished with status 'done'\n",
            "  Preparing metadata (pyproject.toml): started\n",
            "  Preparing metadata (pyproject.toml): finished with status 'done'\n",
            "Requirement already satisfied: tqdm in c:\\users\\user\\.pyenv\\pyenv-win\\versions\\3.9.13\\lib\\site-packages (4.66.1)\n",
            "Requirement already satisfied: python-dateutil>=2.8.2 in c:\\users\\user\\.pyenv\\pyenv-win\\versions\\3.9.13\\lib\\site-packages (from pandas) (2.8.2)\n",
            "Requirement already satisfied: pytz>=2020.1 in c:\\users\\user\\.pyenv\\pyenv-win\\versions\\3.9.13\\lib\\site-packages (from pandas) (2023.3.post1)\n",
            "Requirement already satisfied: tzdata>=2022.1 in c:\\users\\user\\.pyenv\\pyenv-win\\versions\\3.9.13\\lib\\site-packages (from pandas) (2023.3)\n",
            "Requirement already satisfied: backcall in c:\\users\\user\\.pyenv\\pyenv-win\\versions\\3.9.13\\lib\\site-packages (from ipython) (0.2.0)\n",
            "Requirement already satisfied: decorator in c:\\users\\user\\.pyenv\\pyenv-win\\versions\\3.9.13\\lib\\site-packages (from ipython) (5.1.1)\n",
            "Requirement already satisfied: jedi>=0.16 in c:\\users\\user\\.pyenv\\pyenv-win\\versions\\3.9.13\\lib\\site-packages (from ipython) (0.19.1)\n",
            "Requirement already satisfied: matplotlib-inline in c:\\users\\user\\.pyenv\\pyenv-win\\versions\\3.9.13\\lib\\site-packages (from ipython) (0.1.6)\n",
            "Requirement already satisfied: pickleshare in c:\\users\\user\\.pyenv\\pyenv-win\\versions\\3.9.13\\lib\\site-packages (from ipython) (0.7.5)\n",
            "Requirement already satisfied: prompt-toolkit!=3.0.37,<3.1.0,>=3.0.30 in c:\\users\\user\\.pyenv\\pyenv-win\\versions\\3.9.13\\lib\\site-packages (from ipython) (3.0.39)\n",
            "Requirement already satisfied: pygments>=2.4.0 in c:\\users\\user\\.pyenv\\pyenv-win\\versions\\3.9.13\\lib\\site-packages (from ipython) (2.16.1)\n",
            "Requirement already satisfied: stack-data in c:\\users\\user\\.pyenv\\pyenv-win\\versions\\3.9.13\\lib\\site-packages (from ipython) (0.6.3)\n",
            "Requirement already satisfied: traitlets>=5 in c:\\users\\user\\.pyenv\\pyenv-win\\versions\\3.9.13\\lib\\site-packages (from ipython) (5.11.2)\n",
            "Requirement already satisfied: typing-extensions in c:\\users\\user\\.pyenv\\pyenv-win\\versions\\3.9.13\\lib\\site-packages (from ipython) (4.8.0)\n",
            "Requirement already satisfied: exceptiongroup in c:\\users\\user\\.pyenv\\pyenv-win\\versions\\3.9.13\\lib\\site-packages (from ipython) (1.1.3)\n",
            "Requirement already satisfied: colorama in c:\\users\\user\\.pyenv\\pyenv-win\\versions\\3.9.13\\lib\\site-packages (from ipython) (0.4.6)\n",
            "Requirement already satisfied: parso<0.9.0,>=0.8.3 in c:\\users\\user\\.pyenv\\pyenv-win\\versions\\3.9.13\\lib\\site-packages (from jedi>=0.16->ipython) (0.8.3)\n",
            "Requirement already satisfied: wcwidth in c:\\users\\user\\.pyenv\\pyenv-win\\versions\\3.9.13\\lib\\site-packages (from prompt-toolkit!=3.0.37,<3.1.0,>=3.0.30->ipython) (0.2.8)\n",
            "Requirement already satisfied: six>=1.5 in c:\\users\\user\\.pyenv\\pyenv-win\\versions\\3.9.13\\lib\\site-packages (from python-dateutil>=2.8.2->pandas) (1.16.0)\n",
            "Requirement already satisfied: executing>=1.2.0 in c:\\users\\user\\.pyenv\\pyenv-win\\versions\\3.9.13\\lib\\site-packages (from stack-data->ipython) (2.0.0)\n",
            "Requirement already satisfied: asttokens>=2.1.0 in c:\\users\\user\\.pyenv\\pyenv-win\\versions\\3.9.13\\lib\\site-packages (from stack-data->ipython) (2.4.0)\n",
            "Requirement already satisfied: pure-eval in c:\\users\\user\\.pyenv\\pyenv-win\\versions\\3.9.13\\lib\\site-packages (from stack-data->ipython) (0.2.2)\n",
            "Building wheels for collected packages: glob2\n",
            "  Building wheel for glob2 (pyproject.toml): started\n",
            "  Building wheel for glob2 (pyproject.toml): finished with status 'done'\n",
            "  Created wheel for glob2: filename=glob2-0.7-py2.py3-none-any.whl size=9312 sha256=f9e88c54a90adfd15c0f46dff16076d463ca22cd83186a1c905ee81cbcaf4494\n",
            "  Stored in directory: c:\\users\\user\\appdata\\local\\pip\\cache\\wheels\\c0\\dd\\ee\\ba6164807de7570971e8f160dbe6a4178ff4e5922f48c093be\n",
            "Successfully built glob2\n",
            "Installing collected packages: glob2\n",
            "Successfully installed glob2-0.7\n",
            "Note: you may need to restart the kernel to use updated packages.\n"
          ]
        }
      ],
      "source": [
        "pip install pandas numpy ipython glob2 tqdm"
      ]
    },
    {
      "cell_type": "code",
      "execution_count": 11,
      "metadata": {},
      "outputs": [],
      "source": [
        "import pandas as pd\n",
        "import numpy as np\n",
        "from IPython.core.interactiveshell import InteractiveShell\n",
        "InteractiveShell.ast_node_interactivity = \"all\"\n",
        "import glob\n",
        "from tqdm import tqdm\n"
      ]
    },
    {
      "cell_type": "markdown",
      "metadata": {
        "id": "seHpAUlAnZ56"
      },
      "source": [
        "# **NASA FIRMS - Fire Information for Resource Management System**\n",
        "\n",
        "FIRMS distributes Near Real-Time (NRT) active fire data within 3 hours of satellite observation from the Moderate Resolution Imaging Spectroradiometer (MODIS) aboard the Aqua and Terra satellites.\n",
        "\n",
        "# **Acknowledgement & Disclaimer**\n",
        "\n",
        "We acknowledge the use of data and/or imagery from NASA's FIRMS (https://earthdata.nasa.gov/firms), part of NASA's Earth Observing System Data and Information System (EOSDIS).\n",
        "\n",
        "\n",
        "*   Do not use for the preservation of life or property. Satellite-derived active fire / thermal anomalies have limited accuracy.\n",
        "*   Active fire/thermal anomalies may be from fire, hot smoke, agriculture or other sources.\n",
        "*   Cloud cover may obscure active fire detections."
      ]
    },
    {
      "cell_type": "markdown",
      "metadata": {
        "id": "Up0GFcYHn5Q6"
      },
      "source": [
        "# **Defining the Target Zone**\n"
      ]
    },
    {
      "cell_type": "markdown",
      "metadata": {
        "id": "RAx6eHhqn9U3"
      },
      "source": [
        "**Define the latitude & longitude ranges of your target country, zone, etc. The example is for greece.**"
      ]
    },
    {
      "cell_type": "code",
      "execution_count": 12,
      "metadata": {
        "id": "VK49UsRCoE3c"
      },
      "outputs": [],
      "source": [
        "LAT_RANGE = (34, 42)"
      ]
    },
    {
      "cell_type": "markdown",
      "metadata": {
        "id": "_nK-uuIJoMAU"
      },
      "source": [
        "**Read and check the chunks**\n",
        "\n",
        "The archive fire/hotspot datasets could be requested at https://firms.modaps.eosdis.nasa.gov/download/ in yearly chunks for each instrument.\n",
        "\n",
        "*  MODIS Collection 6.1: Temporal Coverage: 11 November 2000 - present\n",
        "\n",
        "\n"
      ]
    },
    {
      "cell_type": "markdown",
      "metadata": {
        "id": "Ezf-ad3SofWZ"
      },
      "source": [
        "**Importing Wildfire data merge csv file.**"
      ]
    },
    {
      "cell_type": "code",
      "execution_count": 18,
      "metadata": {
        "colab": {
          "base_uri": "https://localhost:8080/"
        },
        "id": "SFiW3CMroE6O",
        "outputId": "8277f6c3-6bb7-4a08-9d09-b8065e39a206"
      },
      "outputs": [
        {
          "data": {
            "text/plain": [
              "['C:\\\\Users\\\\User\\\\Videos\\\\UTS\\\\ꞮꞮꞮ.Semester\\\\iLab 2\\\\Countries\\\\Greece\\\\Wildfire Prediction\\\\Greece_wildfire_prediction\\\\data\\\\Wildfire data\\\\Wild_Fire_Data.csv']"
            ]
          },
          "execution_count": 18,
          "metadata": {},
          "output_type": "execute_result"
        }
      ],
      "source": [
        "filenames = glob.glob(r\"C:\\Users\\User\\Videos\\UTS\\ꞮꞮꞮ.Semester\\iLab 2\\Countries\\Greece\\Wildfire Prediction\\Greece_wildfire_prediction\\data\\Wildfire data\\Wild_Fire_Data.csv\")\n",
        "filenames"
      ]
    },
    {
      "cell_type": "markdown",
      "metadata": {
        "id": "DiL21t-qovQN"
      },
      "source": [
        "# **Process each chunk**\n",
        "\n",
        "We removed fire readings with low or less than 50 confidence. We also took only the zones that falls within our target latitude & longitude ranges. For simplicity the coordinates are rounded to two decimal degrees. That is roughly 1.1 km at the Equator. For better spatial resolution the original VIIRS records could be used."
      ]
    },
    {
      "cell_type": "code",
      "execution_count": 19,
      "metadata": {
        "colab": {
          "base_uri": "https://localhost:8080/"
        },
        "id": "TjAuwgyLoE86",
        "outputId": "f8edf3e3-d4dd-42fa-cd6b-c3a8e93c6afa"
      },
      "outputs": [
        {
          "name": "stderr",
          "output_type": "stream",
          "text": [
            "100%|██████████| 1/1 [00:00<00:00, 12.95it/s]"
          ]
        },
        {
          "name": "stdout",
          "output_type": "stream",
          "text": [
            "   latitude  longitude    acq_date satellite instrument  confidence\n",
            "0     34.81      24.12  05/08/2018     Terra      MODIS          62\n",
            "5     34.94      26.13  26/08/2023      Aqua      MODIS          60\n",
            "6     34.94      26.14  03/08/2016     Terra      MODIS          66\n",
            "7     34.94      26.14  13/08/2014     Terra      MODIS          66\n",
            "8     34.94      26.14  25/08/2023      Aqua      MODIS          62\n"
          ]
        },
        {
          "name": "stderr",
          "output_type": "stream",
          "text": [
            "\n"
          ]
        }
      ],
      "source": [
        "LAT_RANGE = (34, 42)\n",
        "LON_RANGE = (19, 29)\n",
        "\n",
        "chunks = []\n",
        "cols_to_read = ['latitude', 'longitude', 'acq_date', 'satellite', 'instrument', 'confidence']\n",
        "for f in tqdm(filenames):\n",
        "    fire = pd.read_csv(f, usecols=cols_to_read, parse_dates=['acq_date'], low_memory=False)\n",
        "    if fire.satellite.loc[0] in ['Terra', 'Aqua', 'N']:\n",
        "        try:\n",
        "            fire = fire[(fire['latitude'] >= LAT_RANGE[0]) & (fire['latitude'] <= LAT_RANGE[1]) &\n",
        "                        (fire['longitude'] >= LON_RANGE[0]) & (fire['longitude'] <= LON_RANGE[1])]\n",
        "            fire['latitude'] = fire['latitude'].round(2)\n",
        "            fire['longitude'] = fire['longitude'].round(2)\n",
        "            fire['confidence'] = fire['confidence'].replace({'l': 0, 'n': 50, 'h': 100})\n",
        "            daily_fires = fire.groupby(\n",
        "                ['latitude', 'longitude', 'acq_date', 'satellite', 'instrument']).confidence.max().reset_index()\n",
        "            daily_fires = daily_fires[daily_fires['confidence'] >= 50]  # Remove low confidence records\n",
        "            chunks.append(daily_fires)\n",
        "\n",
        "            # Now you can print or access daily_fires within the loop\n",
        "            print(daily_fires.head())  # Or any other operations you want to perform\n",
        "\n",
        "        except:\n",
        "            pass\n",
        "    else:\n",
        "        pass\n"
      ]
    },
    {
      "cell_type": "code",
      "execution_count": 20,
      "metadata": {
        "colab": {
          "base_uri": "https://localhost:8080/",
          "height": 206
        },
        "id": "mT_7tdQLoE_u",
        "outputId": "6f8f9dd6-21be-4b17-b5af-46188a96ddfe"
      },
      "outputs": [
        {
          "data": {
            "text/html": [
              "<div>\n",
              "<style scoped>\n",
              "    .dataframe tbody tr th:only-of-type {\n",
              "        vertical-align: middle;\n",
              "    }\n",
              "\n",
              "    .dataframe tbody tr th {\n",
              "        vertical-align: top;\n",
              "    }\n",
              "\n",
              "    .dataframe thead th {\n",
              "        text-align: right;\n",
              "    }\n",
              "</style>\n",
              "<table border=\"1\" class=\"dataframe\">\n",
              "  <thead>\n",
              "    <tr style=\"text-align: right;\">\n",
              "      <th></th>\n",
              "      <th>latitude</th>\n",
              "      <th>longitude</th>\n",
              "      <th>acq_date</th>\n",
              "      <th>satellite</th>\n",
              "      <th>instrument</th>\n",
              "      <th>confidence</th>\n",
              "    </tr>\n",
              "  </thead>\n",
              "  <tbody>\n",
              "    <tr>\n",
              "      <th>0</th>\n",
              "      <td>34.81</td>\n",
              "      <td>24.12</td>\n",
              "      <td>05/08/2018</td>\n",
              "      <td>Terra</td>\n",
              "      <td>MODIS</td>\n",
              "      <td>62</td>\n",
              "    </tr>\n",
              "    <tr>\n",
              "      <th>5</th>\n",
              "      <td>34.94</td>\n",
              "      <td>26.13</td>\n",
              "      <td>26/08/2023</td>\n",
              "      <td>Aqua</td>\n",
              "      <td>MODIS</td>\n",
              "      <td>60</td>\n",
              "    </tr>\n",
              "    <tr>\n",
              "      <th>6</th>\n",
              "      <td>34.94</td>\n",
              "      <td>26.14</td>\n",
              "      <td>03/08/2016</td>\n",
              "      <td>Terra</td>\n",
              "      <td>MODIS</td>\n",
              "      <td>66</td>\n",
              "    </tr>\n",
              "    <tr>\n",
              "      <th>7</th>\n",
              "      <td>34.94</td>\n",
              "      <td>26.14</td>\n",
              "      <td>13/08/2014</td>\n",
              "      <td>Terra</td>\n",
              "      <td>MODIS</td>\n",
              "      <td>66</td>\n",
              "    </tr>\n",
              "    <tr>\n",
              "      <th>8</th>\n",
              "      <td>34.94</td>\n",
              "      <td>26.14</td>\n",
              "      <td>25/08/2023</td>\n",
              "      <td>Aqua</td>\n",
              "      <td>MODIS</td>\n",
              "      <td>62</td>\n",
              "    </tr>\n",
              "  </tbody>\n",
              "</table>\n",
              "</div>"
            ],
            "text/plain": [
              "   latitude  longitude    acq_date satellite instrument  confidence\n",
              "0     34.81      24.12  05/08/2018     Terra      MODIS          62\n",
              "5     34.94      26.13  26/08/2023      Aqua      MODIS          60\n",
              "6     34.94      26.14  03/08/2016     Terra      MODIS          66\n",
              "7     34.94      26.14  13/08/2014     Terra      MODIS          66\n",
              "8     34.94      26.14  25/08/2023      Aqua      MODIS          62"
            ]
          },
          "execution_count": 20,
          "metadata": {},
          "output_type": "execute_result"
        }
      ],
      "source": [
        "daily_fires.head()"
      ]
    },
    {
      "cell_type": "markdown",
      "metadata": {
        "id": "pIPOE0MOpOK9"
      },
      "source": [
        "**We are merging the chunks we created into one full dataframe.**"
      ]
    },
    {
      "cell_type": "code",
      "execution_count": 21,
      "metadata": {
        "colab": {
          "base_uri": "https://localhost:8080/",
          "height": 424
        },
        "id": "cIKLc26toFCb",
        "outputId": "d1378b58-46ab-40fb-d305-fbe6fe1b684c"
      },
      "outputs": [
        {
          "data": {
            "text/html": [
              "<div>\n",
              "<style scoped>\n",
              "    .dataframe tbody tr th:only-of-type {\n",
              "        vertical-align: middle;\n",
              "    }\n",
              "\n",
              "    .dataframe tbody tr th {\n",
              "        vertical-align: top;\n",
              "    }\n",
              "\n",
              "    .dataframe thead th {\n",
              "        text-align: right;\n",
              "    }\n",
              "</style>\n",
              "<table border=\"1\" class=\"dataframe\">\n",
              "  <thead>\n",
              "    <tr style=\"text-align: right;\">\n",
              "      <th></th>\n",
              "      <th>latitude</th>\n",
              "      <th>longitude</th>\n",
              "      <th>acq_date</th>\n",
              "      <th>satellite</th>\n",
              "      <th>instrument</th>\n",
              "      <th>confidence</th>\n",
              "    </tr>\n",
              "  </thead>\n",
              "  <tbody>\n",
              "    <tr>\n",
              "      <th>0</th>\n",
              "      <td>34.81</td>\n",
              "      <td>24.12</td>\n",
              "      <td>05/08/2018</td>\n",
              "      <td>Terra</td>\n",
              "      <td>MODIS</td>\n",
              "      <td>62</td>\n",
              "    </tr>\n",
              "    <tr>\n",
              "      <th>5</th>\n",
              "      <td>34.94</td>\n",
              "      <td>26.13</td>\n",
              "      <td>26/08/2023</td>\n",
              "      <td>Aqua</td>\n",
              "      <td>MODIS</td>\n",
              "      <td>60</td>\n",
              "    </tr>\n",
              "    <tr>\n",
              "      <th>6</th>\n",
              "      <td>34.94</td>\n",
              "      <td>26.14</td>\n",
              "      <td>03/08/2016</td>\n",
              "      <td>Terra</td>\n",
              "      <td>MODIS</td>\n",
              "      <td>66</td>\n",
              "    </tr>\n",
              "    <tr>\n",
              "      <th>7</th>\n",
              "      <td>34.94</td>\n",
              "      <td>26.14</td>\n",
              "      <td>13/08/2014</td>\n",
              "      <td>Terra</td>\n",
              "      <td>MODIS</td>\n",
              "      <td>66</td>\n",
              "    </tr>\n",
              "    <tr>\n",
              "      <th>8</th>\n",
              "      <td>34.94</td>\n",
              "      <td>26.14</td>\n",
              "      <td>25/08/2023</td>\n",
              "      <td>Aqua</td>\n",
              "      <td>MODIS</td>\n",
              "      <td>62</td>\n",
              "    </tr>\n",
              "    <tr>\n",
              "      <th>...</th>\n",
              "      <td>...</td>\n",
              "      <td>...</td>\n",
              "      <td>...</td>\n",
              "      <td>...</td>\n",
              "      <td>...</td>\n",
              "      <td>...</td>\n",
              "    </tr>\n",
              "    <tr>\n",
              "      <th>17628</th>\n",
              "      <td>41.81</td>\n",
              "      <td>26.13</td>\n",
              "      <td>02/11/2018</td>\n",
              "      <td>Terra</td>\n",
              "      <td>MODIS</td>\n",
              "      <td>60</td>\n",
              "    </tr>\n",
              "    <tr>\n",
              "      <th>17629</th>\n",
              "      <td>41.81</td>\n",
              "      <td>26.14</td>\n",
              "      <td>05/03/2017</td>\n",
              "      <td>Aqua</td>\n",
              "      <td>MODIS</td>\n",
              "      <td>84</td>\n",
              "    </tr>\n",
              "    <tr>\n",
              "      <th>17630</th>\n",
              "      <td>41.82</td>\n",
              "      <td>26.11</td>\n",
              "      <td>12/10/2013</td>\n",
              "      <td>Terra</td>\n",
              "      <td>MODIS</td>\n",
              "      <td>59</td>\n",
              "    </tr>\n",
              "    <tr>\n",
              "      <th>17631</th>\n",
              "      <td>41.82</td>\n",
              "      <td>26.13</td>\n",
              "      <td>20/10/2014</td>\n",
              "      <td>Aqua</td>\n",
              "      <td>MODIS</td>\n",
              "      <td>57</td>\n",
              "    </tr>\n",
              "    <tr>\n",
              "      <th>17632</th>\n",
              "      <td>41.83</td>\n",
              "      <td>26.17</td>\n",
              "      <td>24/03/2017</td>\n",
              "      <td>Aqua</td>\n",
              "      <td>MODIS</td>\n",
              "      <td>75</td>\n",
              "    </tr>\n",
              "  </tbody>\n",
              "</table>\n",
              "<p>14726 rows × 6 columns</p>\n",
              "</div>"
            ],
            "text/plain": [
              "       latitude  longitude    acq_date satellite instrument  confidence\n",
              "0         34.81      24.12  05/08/2018     Terra      MODIS          62\n",
              "5         34.94      26.13  26/08/2023      Aqua      MODIS          60\n",
              "6         34.94      26.14  03/08/2016     Terra      MODIS          66\n",
              "7         34.94      26.14  13/08/2014     Terra      MODIS          66\n",
              "8         34.94      26.14  25/08/2023      Aqua      MODIS          62\n",
              "...         ...        ...         ...       ...        ...         ...\n",
              "17628     41.81      26.13  02/11/2018     Terra      MODIS          60\n",
              "17629     41.81      26.14  05/03/2017      Aqua      MODIS          84\n",
              "17630     41.82      26.11  12/10/2013     Terra      MODIS          59\n",
              "17631     41.82      26.13  20/10/2014      Aqua      MODIS          57\n",
              "17632     41.83      26.17  24/03/2017      Aqua      MODIS          75\n",
              "\n",
              "[14726 rows x 6 columns]"
            ]
          },
          "execution_count": 21,
          "metadata": {},
          "output_type": "execute_result"
        }
      ],
      "source": [
        "full_dataset = pd.concat(chunks)\n",
        "full_dataset"
      ]
    },
    {
      "cell_type": "code",
      "execution_count": 24,
      "metadata": {
        "id": "-Om3bRjmhS_I"
      },
      "outputs": [],
      "source": [
        "# 'full_dataset' is my DataFrame\n",
        "full_dataset['acq_date'] = pd.to_datetime(full_dataset['acq_date'], format='%d/%m/%Y')\n",
        "\n",
        "# Create separate 'Month' and 'Year' columns\n",
        "full_dataset['month'] = full_dataset['acq_date'].dt.month\n",
        "full_dataset['year'] = full_dataset['acq_date'].dt.year\n",
        "\n"
      ]
    },
    {
      "cell_type": "code",
      "execution_count": 25,
      "metadata": {
        "id": "_jksCeNFhUnq"
      },
      "outputs": [],
      "source": [
        "full_dataset = full_dataset.drop(columns=['acq_date'])"
      ]
    },
    {
      "cell_type": "code",
      "execution_count": 26,
      "metadata": {
        "colab": {
          "base_uri": "https://localhost:8080/",
          "height": 424
        },
        "id": "XErpKHAhhqQi",
        "outputId": "98eec0ba-66c2-4ab5-a773-97fd2edfd4c9"
      },
      "outputs": [
        {
          "data": {
            "text/html": [
              "<div>\n",
              "<style scoped>\n",
              "    .dataframe tbody tr th:only-of-type {\n",
              "        vertical-align: middle;\n",
              "    }\n",
              "\n",
              "    .dataframe tbody tr th {\n",
              "        vertical-align: top;\n",
              "    }\n",
              "\n",
              "    .dataframe thead th {\n",
              "        text-align: right;\n",
              "    }\n",
              "</style>\n",
              "<table border=\"1\" class=\"dataframe\">\n",
              "  <thead>\n",
              "    <tr style=\"text-align: right;\">\n",
              "      <th></th>\n",
              "      <th>latitude</th>\n",
              "      <th>longitude</th>\n",
              "      <th>satellite</th>\n",
              "      <th>instrument</th>\n",
              "      <th>confidence</th>\n",
              "      <th>month</th>\n",
              "      <th>year</th>\n",
              "    </tr>\n",
              "  </thead>\n",
              "  <tbody>\n",
              "    <tr>\n",
              "      <th>0</th>\n",
              "      <td>34.81</td>\n",
              "      <td>24.12</td>\n",
              "      <td>Terra</td>\n",
              "      <td>MODIS</td>\n",
              "      <td>62</td>\n",
              "      <td>8</td>\n",
              "      <td>2018</td>\n",
              "    </tr>\n",
              "    <tr>\n",
              "      <th>5</th>\n",
              "      <td>34.94</td>\n",
              "      <td>26.13</td>\n",
              "      <td>Aqua</td>\n",
              "      <td>MODIS</td>\n",
              "      <td>60</td>\n",
              "      <td>8</td>\n",
              "      <td>2023</td>\n",
              "    </tr>\n",
              "    <tr>\n",
              "      <th>6</th>\n",
              "      <td>34.94</td>\n",
              "      <td>26.14</td>\n",
              "      <td>Terra</td>\n",
              "      <td>MODIS</td>\n",
              "      <td>66</td>\n",
              "      <td>8</td>\n",
              "      <td>2016</td>\n",
              "    </tr>\n",
              "    <tr>\n",
              "      <th>7</th>\n",
              "      <td>34.94</td>\n",
              "      <td>26.14</td>\n",
              "      <td>Terra</td>\n",
              "      <td>MODIS</td>\n",
              "      <td>66</td>\n",
              "      <td>8</td>\n",
              "      <td>2014</td>\n",
              "    </tr>\n",
              "    <tr>\n",
              "      <th>8</th>\n",
              "      <td>34.94</td>\n",
              "      <td>26.14</td>\n",
              "      <td>Aqua</td>\n",
              "      <td>MODIS</td>\n",
              "      <td>62</td>\n",
              "      <td>8</td>\n",
              "      <td>2023</td>\n",
              "    </tr>\n",
              "    <tr>\n",
              "      <th>...</th>\n",
              "      <td>...</td>\n",
              "      <td>...</td>\n",
              "      <td>...</td>\n",
              "      <td>...</td>\n",
              "      <td>...</td>\n",
              "      <td>...</td>\n",
              "      <td>...</td>\n",
              "    </tr>\n",
              "    <tr>\n",
              "      <th>17628</th>\n",
              "      <td>41.81</td>\n",
              "      <td>26.13</td>\n",
              "      <td>Terra</td>\n",
              "      <td>MODIS</td>\n",
              "      <td>60</td>\n",
              "      <td>11</td>\n",
              "      <td>2018</td>\n",
              "    </tr>\n",
              "    <tr>\n",
              "      <th>17629</th>\n",
              "      <td>41.81</td>\n",
              "      <td>26.14</td>\n",
              "      <td>Aqua</td>\n",
              "      <td>MODIS</td>\n",
              "      <td>84</td>\n",
              "      <td>3</td>\n",
              "      <td>2017</td>\n",
              "    </tr>\n",
              "    <tr>\n",
              "      <th>17630</th>\n",
              "      <td>41.82</td>\n",
              "      <td>26.11</td>\n",
              "      <td>Terra</td>\n",
              "      <td>MODIS</td>\n",
              "      <td>59</td>\n",
              "      <td>10</td>\n",
              "      <td>2013</td>\n",
              "    </tr>\n",
              "    <tr>\n",
              "      <th>17631</th>\n",
              "      <td>41.82</td>\n",
              "      <td>26.13</td>\n",
              "      <td>Aqua</td>\n",
              "      <td>MODIS</td>\n",
              "      <td>57</td>\n",
              "      <td>10</td>\n",
              "      <td>2014</td>\n",
              "    </tr>\n",
              "    <tr>\n",
              "      <th>17632</th>\n",
              "      <td>41.83</td>\n",
              "      <td>26.17</td>\n",
              "      <td>Aqua</td>\n",
              "      <td>MODIS</td>\n",
              "      <td>75</td>\n",
              "      <td>3</td>\n",
              "      <td>2017</td>\n",
              "    </tr>\n",
              "  </tbody>\n",
              "</table>\n",
              "<p>14726 rows × 7 columns</p>\n",
              "</div>"
            ],
            "text/plain": [
              "       latitude  longitude satellite instrument  confidence  month  year\n",
              "0         34.81      24.12     Terra      MODIS          62      8  2018\n",
              "5         34.94      26.13      Aqua      MODIS          60      8  2023\n",
              "6         34.94      26.14     Terra      MODIS          66      8  2016\n",
              "7         34.94      26.14     Terra      MODIS          66      8  2014\n",
              "8         34.94      26.14      Aqua      MODIS          62      8  2023\n",
              "...         ...        ...       ...        ...         ...    ...   ...\n",
              "17628     41.81      26.13     Terra      MODIS          60     11  2018\n",
              "17629     41.81      26.14      Aqua      MODIS          84      3  2017\n",
              "17630     41.82      26.11     Terra      MODIS          59     10  2013\n",
              "17631     41.82      26.13      Aqua      MODIS          57     10  2014\n",
              "17632     41.83      26.17      Aqua      MODIS          75      3  2017\n",
              "\n",
              "[14726 rows x 7 columns]"
            ]
          },
          "execution_count": 26,
          "metadata": {},
          "output_type": "execute_result"
        }
      ],
      "source": [
        "full_dataset"
      ]
    },
    {
      "cell_type": "markdown",
      "metadata": {
        "id": "FudyV_lZpauf"
      },
      "source": [
        "# **Export**\n",
        "\n",
        "We are exporting the wildfire data into csv file."
      ]
    },
    {
      "cell_type": "code",
      "execution_count": 27,
      "metadata": {
        "id": "h4y7upnJoFFN"
      },
      "outputs": [],
      "source": [
        "full_dataset.to_csv('wildfire_processed_data.csv', index=False)"
      ]
    }
  ],
  "metadata": {
    "colab": {
      "provenance": []
    },
    "kernelspec": {
      "display_name": "Python 3",
      "name": "python3"
    },
    "language_info": {
      "codemirror_mode": {
        "name": "ipython",
        "version": 3
      },
      "file_extension": ".py",
      "mimetype": "text/x-python",
      "name": "python",
      "nbconvert_exporter": "python",
      "pygments_lexer": "ipython3",
      "version": "3.9.13"
    }
  },
  "nbformat": 4,
  "nbformat_minor": 0
}
